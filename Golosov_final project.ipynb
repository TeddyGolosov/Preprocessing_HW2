{
 "cells": [
  {
   "cell_type": "code",
   "execution_count": 32,
   "metadata": {},
   "outputs": [],
   "source": [
    "#My project is dedicated to the behavior of the inchoative derivation in za- in imperative contexts.\n",
    "#The problem comes from E.V. Paducheva's observation that imperative forms of imperfective verbs can get an inchoative meaning^\n",
    "#(1) Иди домой!\n",
    "#In (1), the speaker says that he wants the hearer to start the situation of going home, although the verb is imperfective and it\n",
    "#can not denote a starting point in more mainstream contexts, as in past (2):\n",
    "#(2)Когда я позвонил Пете, он шёл домой -> this can not mean that Petya started go home after the speaker's call\n",
    "#Thus, imperatives can force inchoative interpertation, and it poses the question: will it affect the frequency of inchoatives in za-?\n",
    "#For instance, in (3), the forms seem to be nearly synymous:\n",
    "#(3) Кричи!/Закричи!\n",
    "#I decided to check whether this concurence actually affects the frequency of the inchoatives in za-, in my statistical research project.\n",
    "#To do so, I collected forms of different verbs which have inchoatives in za- occuring in imperative contexts. \n",
    "#I counted the frequency of forms in 4 contexts: PAST W|O INCHOATIVE (aka кричал(а,о,и)), PAST WITH INCHOATIVE (aka закричал(а, о, и)), \n",
    "#IMPERATIVE W|O INCHOATIVE (aka кричи(те)) and finally the key forms, IMRERATIVE WITH INCHOATIVE (aka закричи(те)).\n",
    "#I will count chi-square test on it."
   ]
  },
  {
   "cell_type": "code",
   "execution_count": 33,
   "metadata": {},
   "outputs": [],
   "source": [
    "#I will repeat the part of my HW2 to download data."
   ]
  },
  {
   "cell_type": "code",
   "execution_count": 34,
   "metadata": {},
   "outputs": [],
   "source": [
    "import pandas as pd\n",
    "import csv\n",
    "import sqlite3"
   ]
  },
  {
   "cell_type": "code",
   "execution_count": 35,
   "metadata": {},
   "outputs": [],
   "source": [
    "df = pd.read_csv('D:/za_stat.csv', sep=';', encoding='utf-8')\n"
   ]
  },
  {
   "cell_type": "code",
   "execution_count": 36,
   "metadata": {},
   "outputs": [
    {
     "data": {
      "text/html": [
       "<div>\n",
       "<style scoped>\n",
       "    .dataframe tbody tr th:only-of-type {\n",
       "        vertical-align: middle;\n",
       "    }\n",
       "\n",
       "    .dataframe tbody tr th {\n",
       "        vertical-align: top;\n",
       "    }\n",
       "\n",
       "    .dataframe thead th {\n",
       "        text-align: right;\n",
       "    }\n",
       "</style>\n",
       "<table border=\"1\" class=\"dataframe\">\n",
       "  <thead>\n",
       "    <tr style=\"text-align: right;\">\n",
       "      <th></th>\n",
       "      <th>Verb</th>\n",
       "      <th>V_pst</th>\n",
       "      <th>za_V_pst</th>\n",
       "      <th>V_imp</th>\n",
       "      <th>za_V_imp</th>\n",
       "    </tr>\n",
       "  </thead>\n",
       "  <tbody>\n",
       "    <tr>\n",
       "      <th>0</th>\n",
       "      <td>смеялcя</td>\n",
       "      <td>13303</td>\n",
       "      <td>14673</td>\n",
       "      <td>1212</td>\n",
       "      <td>40</td>\n",
       "    </tr>\n",
       "    <tr>\n",
       "      <th>1</th>\n",
       "      <td>плакал</td>\n",
       "      <td>14573</td>\n",
       "      <td>7386</td>\n",
       "      <td>2084</td>\n",
       "      <td>37</td>\n",
       "    </tr>\n",
       "    <tr>\n",
       "      <th>2</th>\n",
       "      <td>орал</td>\n",
       "      <td>3408</td>\n",
       "      <td>3917</td>\n",
       "      <td>461</td>\n",
       "      <td>4</td>\n",
       "    </tr>\n",
       "    <tr>\n",
       "      <th>3</th>\n",
       "      <td>интересовался</td>\n",
       "      <td>4234</td>\n",
       "      <td>2670</td>\n",
       "      <td>27</td>\n",
       "      <td>5</td>\n",
       "    </tr>\n",
       "    <tr>\n",
       "      <th>4</th>\n",
       "      <td>играл</td>\n",
       "      <td>28361</td>\n",
       "      <td>2439</td>\n",
       "      <td>1080</td>\n",
       "      <td>39</td>\n",
       "    </tr>\n",
       "  </tbody>\n",
       "</table>\n",
       "</div>"
      ],
      "text/plain": [
       "            Verb  V_pst  za_V_pst  V_imp  za_V_imp\n",
       "0        смеялcя  13303     14673   1212        40\n",
       "1         плакал  14573      7386   2084        37\n",
       "2           орал   3408      3917    461         4\n",
       "3  интересовался   4234      2670     27         5\n",
       "4          играл  28361      2439   1080        39"
      ]
     },
     "execution_count": 36,
     "metadata": {},
     "output_type": "execute_result"
    }
   ],
   "source": [
    "df.head()"
   ]
  },
  {
   "cell_type": "code",
   "execution_count": 37,
   "metadata": {},
   "outputs": [],
   "source": [
    "df1 = pd.read_csv('D:/za_classes.csv', sep=';', encoding='utf-8')"
   ]
  },
  {
   "cell_type": "code",
   "execution_count": 38,
   "metadata": {},
   "outputs": [
    {
     "data": {
      "text/html": [
       "<div>\n",
       "<style scoped>\n",
       "    .dataframe tbody tr th:only-of-type {\n",
       "        vertical-align: middle;\n",
       "    }\n",
       "\n",
       "    .dataframe tbody tr th {\n",
       "        vertical-align: top;\n",
       "    }\n",
       "\n",
       "    .dataframe thead th {\n",
       "        text-align: right;\n",
       "    }\n",
       "</style>\n",
       "<table border=\"1\" class=\"dataframe\">\n",
       "  <thead>\n",
       "    <tr style=\"text-align: right;\">\n",
       "      <th></th>\n",
       "      <th>Verbs</th>\n",
       "      <th>act</th>\n",
       "      <th>lex</th>\n",
       "    </tr>\n",
       "  </thead>\n",
       "  <tbody>\n",
       "    <tr>\n",
       "      <th>0</th>\n",
       "      <td>смеялcя</td>\n",
       "      <td>EPa</td>\n",
       "      <td>HumManner</td>\n",
       "    </tr>\n",
       "    <tr>\n",
       "      <th>1</th>\n",
       "      <td>плакал</td>\n",
       "      <td>EPa</td>\n",
       "      <td>HumManner</td>\n",
       "    </tr>\n",
       "    <tr>\n",
       "      <th>2</th>\n",
       "      <td>орал</td>\n",
       "      <td>Epa</td>\n",
       "      <td>SoundSpeech</td>\n",
       "    </tr>\n",
       "    <tr>\n",
       "      <th>3</th>\n",
       "      <td>интересовался</td>\n",
       "      <td>ESGen</td>\n",
       "      <td>HumRel</td>\n",
       "    </tr>\n",
       "    <tr>\n",
       "      <th>4</th>\n",
       "      <td>играл</td>\n",
       "      <td>Epa</td>\n",
       "      <td>OtherHumActivity</td>\n",
       "    </tr>\n",
       "  </tbody>\n",
       "</table>\n",
       "</div>"
      ],
      "text/plain": [
       "           Verbs    act               lex\n",
       "0        смеялcя    EPa         HumManner\n",
       "1         плакал    EPa         HumManner\n",
       "2           орал    Epa       SoundSpeech\n",
       "3  интересовался  ESGen            HumRel\n",
       "4          играл    Epa  OtherHumActivity"
      ]
     },
     "execution_count": 38,
     "metadata": {},
     "output_type": "execute_result"
    }
   ],
   "source": [
    "df1.head()"
   ]
  },
  {
   "cell_type": "code",
   "execution_count": 39,
   "metadata": {},
   "outputs": [],
   "source": [
    "con = sqlite3.connect(\"prefix_za.db\")\n",
    "cur = con.cursor()\n",
    "df.to_sql(name='za_statistics', con=con, if_exists='replace')\n"
   ]
  },
  {
   "cell_type": "code",
   "execution_count": 40,
   "metadata": {},
   "outputs": [],
   "source": [
    "con = sqlite3.connect(\"prefix_za.db\")\n",
    "cur = con.cursor()\n",
    "df1.to_sql(name='za_classes', con=con, if_exists='replace')"
   ]
  },
  {
   "cell_type": "code",
   "execution_count": 41,
   "metadata": {},
   "outputs": [
    {
     "name": "stdout",
     "output_type": "stream",
     "text": [
      "(0, 'смеялcя', 13303, 14673, 1212, 40)\n",
      "(1, 'плакал', 14573, 7386, 2084, 37)\n",
      "(2, 'орал', 3408, 3917, 461, 4)\n",
      "(3, 'интересовался', 4234, 2670, 27, 5)\n",
      "(4, 'играл', 28361, 2439, 1080, 39)\n",
      "(5, 'интересовал', 4626, 2008, 0, 9)\n",
      "(6, 'мёрз', 645, 1996, 16, 13)\n",
      "(7, 'стонал', 2253, 1719, 38, 2)\n",
      "(8, 'ревел', 1918, 1477, 181, 6)\n",
      "(9, 'звучал', 8011, 1465, 18, 2)\n",
      "(10, 'шумел', 3914, 1459, 508, 5)\n",
      "(11, 'блестел', 4386, 1148, 9, 2)\n",
      "(12, 'визжал', 1299, 1093, 19, 2)\n",
      "(13, 'качался', 1800, 862, 23, 2)\n",
      "(14, 'рычал', 816, 821, 68, 2)\n",
      "(15, 'тряс', 1899, 700, 67, 4)\n",
      "(16, 'бастовал', 216, 445, 10, 2)\n",
      "(17, 'упрямился', 186, 277, 60, 2)\n",
      "(18, 'артачился', 33, 155, 4, 2)\n"
     ]
    }
   ],
   "source": [
    "for row in cur.execute('SELECT * FROM za_statistics'):\n",
    "    print(row)"
   ]
  },
  {
   "cell_type": "code",
   "execution_count": 42,
   "metadata": {},
   "outputs": [],
   "source": [
    "from scipy.stats import chisquare"
   ]
  },
  {
   "cell_type": "code",
   "execution_count": 43,
   "metadata": {},
   "outputs": [
    {
     "name": "stdout",
     "output_type": "stream",
     "text": [
      "Chisquare for смеялcя\n",
      "Power_divergenceResult(statistic=24656.94347885589, pvalue=0.0)\n",
      "Chisquare for плакал\n",
      "Power_divergenceResult(statistic=20981.420265780733, pvalue=0.0)\n",
      "Chisquare for орал\n",
      "Power_divergenceResult(statistic=6161.1630295250325, pvalue=0.0)\n",
      "Chisquare for интересовался\n",
      "Power_divergenceResult(statistic=7514.063437139561, pvalue=0.0)\n",
      "Chisquare for играл\n",
      "Power_divergenceResult(statistic=69771.27388076068, pvalue=0.0)\n",
      "Chisquare for интересовал\n",
      "Power_divergenceResult(statistic=8670.575794068945, pvalue=0.0)\n",
      "Chisquare for мёрз\n",
      "Power_divergenceResult(statistic=3922.458426966292, pvalue=0.0)\n",
      "Chisquare for стонал\n",
      "Power_divergenceResult(statistic=3996.3928215353935, pvalue=0.0)\n",
      "Chisquare for ревел\n",
      "Power_divergenceResult(statistic=2998.737018425461, pvalue=0.0)\n",
      "Chisquare for звучал\n",
      "Power_divergenceResult(statistic=18441.099410278013, pvalue=0.0)\n",
      "Chisquare for шумел\n",
      "Power_divergenceResult(statistic=6146.732585796806, pvalue=0.0)\n",
      "Chisquare for блестел\n",
      "Power_divergenceResult(statistic=9282.76194770063, pvalue=0.0)\n",
      "Chisquare for визжал\n",
      "Power_divergenceResult(statistic=2365.14338997099, pvalue=0.0)\n",
      "Chisquare for качался\n",
      "Power_divergenceResult(statistic=3243.148120580573, pvalue=0.0)\n",
      "Chisquare for рычал\n",
      "Power_divergenceResult(statistic=1443.6151142355006, pvalue=0.0)\n",
      "Chisquare for тряс\n",
      "Power_divergenceResult(statistic=3473.379775280899, pvalue=0.0)\n",
      "Chisquare for бастовал\n",
      "Power_divergenceResult(statistic=781.8885586924221, pvalue=3.6654189445360736e-169)\n",
      "Chisquare for упрямился\n",
      "Power_divergenceResult(statistic=350.6495238095238, pvalue=1.0790295536141752e-75)\n",
      "Chisquare for артачился\n",
      "Power_divergenceResult(statistic=324.2268041237114, pvalue=5.6720741039510166e-70)\n"
     ]
    }
   ],
   "source": [
    "x = 0\n",
    "while x < len(df):\n",
    "    print(\"Chisquare for \" +df['Verb'].values[x])\n",
    "    print(chisquare((df['V_pst'].values[x], df['za_V_pst'].values[x], df['V_imp'].values[x], df['za_V_imp'].values[x])))\n",
    "    x = x+1\n",
    "\n"
   ]
  },
  {
   "cell_type": "code",
   "execution_count": 44,
   "metadata": {},
   "outputs": [],
   "source": [
    "#As you can see, the null hypothesis is rejected, so the parameters are not independent and correlate.\n",
    "#To understand the exact direction of correlation, let us have a look at another test -- logistic regression.\n"
   ]
  },
  {
   "cell_type": "code",
   "execution_count": 60,
   "metadata": {},
   "outputs": [
    {
     "data": {
      "text/html": [
       "<table class=\"simpletable\">\n",
       "<caption>Generalized Linear Model Regression Results</caption>\n",
       "<tr>\n",
       "  <th>Dep. Variable:</th>         <td>v_za</td>       <th>  No. Observations:  </th>   <td>148656</td>  \n",
       "</tr>\n",
       "<tr>\n",
       "  <th>Model:</th>                  <td>GLM</td>       <th>  Df Residuals:      </th>   <td>148654</td>  \n",
       "</tr>\n",
       "<tr>\n",
       "  <th>Model Family:</th>        <td>Binomial</td>     <th>  Df Model:          </th>   <td>     1</td>  \n",
       "</tr>\n",
       "<tr>\n",
       "  <th>Link Function:</th>         <td>logit</td>      <th>  Scale:             </th>  <td>  1.0000</td> \n",
       "</tr>\n",
       "<tr>\n",
       "  <th>Method:</th>                <td>IRLS</td>       <th>  Log-Likelihood:    </th>  <td> -90992.</td> \n",
       "</tr>\n",
       "<tr>\n",
       "  <th>Date:</th>            <td>Mon, 23 Nov 2020</td> <th>  Deviance:          </th> <td>1.8198e+05</td>\n",
       "</tr>\n",
       "<tr>\n",
       "  <th>Time:</th>                <td>23:57:08</td>     <th>  Pearson chi2:      </th>  <td>1.49e+05</td> \n",
       "</tr>\n",
       "<tr>\n",
       "  <th>No. Iterations:</th>          <td>6</td>        <th>                     </th>      <td> </td>    \n",
       "</tr>\n",
       "<tr>\n",
       "  <th>Covariance Type:</th>     <td>nonrobust</td>    <th>                     </th>      <td> </td>    \n",
       "</tr>\n",
       "</table>\n",
       "<table class=\"simpletable\">\n",
       "<tr>\n",
       "      <td></td>         <th>coef</th>     <th>std err</th>      <th>z</th>      <th>P>|z|</th>  <th>[0.025</th>    <th>0.975]</th>  \n",
       "</tr>\n",
       "<tr>\n",
       "  <th>Intercept</th> <td>   -0.7191</td> <td>    0.006</td> <td> -127.451</td> <td> 0.000</td> <td>   -0.730</td> <td>   -0.708</td>\n",
       "</tr>\n",
       "<tr>\n",
       "  <th>v_imp</th>     <td>   -2.7681</td> <td>    0.076</td> <td>  -36.481</td> <td> 0.000</td> <td>   -2.917</td> <td>   -2.619</td>\n",
       "</tr>\n",
       "</table>"
      ],
      "text/plain": [
       "<class 'statsmodels.iolib.summary.Summary'>\n",
       "\"\"\"\n",
       "                 Generalized Linear Model Regression Results                  \n",
       "==============================================================================\n",
       "Dep. Variable:                   v_za   No. Observations:               148656\n",
       "Model:                            GLM   Df Residuals:                   148654\n",
       "Model Family:                Binomial   Df Model:                            1\n",
       "Link Function:                  logit   Scale:                          1.0000\n",
       "Method:                          IRLS   Log-Likelihood:                -90992.\n",
       "Date:                Mon, 23 Nov 2020   Deviance:                   1.8198e+05\n",
       "Time:                        23:57:08   Pearson chi2:                 1.49e+05\n",
       "No. Iterations:                     6                                         \n",
       "Covariance Type:            nonrobust                                         \n",
       "==============================================================================\n",
       "                 coef    std err          z      P>|z|      [0.025      0.975]\n",
       "------------------------------------------------------------------------------\n",
       "Intercept     -0.7191      0.006   -127.451      0.000      -0.730      -0.708\n",
       "v_imp         -2.7681      0.076    -36.481      0.000      -2.917      -2.619\n",
       "==============================================================================\n",
       "\"\"\""
      ]
     },
     "execution_count": 60,
     "metadata": {},
     "output_type": "execute_result"
    }
   ],
   "source": [
    "import statsmodels.api as sm\n",
    "df2 = pd.read_csv('C:/pref_za_disaggregategy.csv', sep=';', encoding = \"utf-8\")\n",
    "df2.head()\n",
    "import statsmodels.formula.api as smf\n",
    "mod = smf.glm('v_za ~ v_imp', family=sm.families.Binomial(), data=df2).fit()\n",
    "mod.summary()"
   ]
  },
  {
   "cell_type": "code",
   "execution_count": null,
   "metadata": {},
   "outputs": [],
   "source": [
    "#The correlation coefficients show the negative sign, and it means that the correlation is negative.\n",
    "#It means that choice of imperative negatively influences on the choice of za-, which is what we expected.\n",
    "#Now we can be sure our hypothesis is maintained by the statistics: there is indeed a negative correlation between imperative and za usages."
   ]
  },
  {
   "cell_type": "code",
   "execution_count": 62,
   "metadata": {},
   "outputs": [
    {
     "name": "stdout",
     "output_type": "stream",
     "text": [
      "[('стонал',), ('звучал',), ('блестел',), ('визжал',), ('качался',), ('рычал',), ('бастовал',), ('упрямился',), ('артачился',), ('орал',), ('тряс',), ('интересовался',), ('шумел',), ('ревел',), ('интересовал',), ('мёрз',), ('плакал',), ('играл',), ('смеялcя',)]\n"
     ]
    }
   ],
   "source": [
    "#The first query\n",
    "cur.execute('SELECT Verb FROM za_statistics ORDER BY za_V_imp')\n",
    "print(cur.fetchall())\n",
    "#Here I filter the verbs with respect to the frequency of their inchoatives in za- in imperative forms."
   ]
  },
  {
   "cell_type": "code",
   "execution_count": null,
   "metadata": {},
   "outputs": [],
   "source": [
    "#It is interesting why it is so. Possibly the most frequent verbs here are either agentive or denote some reactions one could ask to avoid."
   ]
  },
  {
   "cell_type": "code",
   "execution_count": null,
   "metadata": {},
   "outputs": [],
   "source": [
    "#The second query.\n",
    "cur.execute('SELECT * FROM za_statistics INNER JOIN za_classes ON za_statistics.Verb = za_classes.Verbs')\n",
    "#Here I join the tables together.  "
   ]
  },
  {
   "cell_type": "code",
   "execution_count": 63,
   "metadata": {},
   "outputs": [
    {
     "name": "stdout",
     "output_type": "stream",
     "text": [
      "[('интересовал',), ('мёрз',), ('плакал',), ('играл',), ('смеялcя',)]\n"
     ]
    }
   ],
   "source": [
    "#The third query\n",
    "cur.execute(\"SELECT Verb from za_statistics ORDER BY za_V_imp LIMIT 19 OFFSET 14\")\n",
    "print(cur.fetchall())\n",
    "#Here I filter out the most frequent verbs with za- in imperative (the last one is the most frequent)"
   ]
  },
  {
   "cell_type": "code",
   "execution_count": 64,
   "metadata": {},
   "outputs": [
    {
     "name": "stdout",
     "output_type": "stream",
     "text": [
      "[('стонал',), ('звучал',), ('блестел',), ('визжал',), ('качался',)]\n"
     ]
    }
   ],
   "source": [
    "#Let it also be a part of the third query\n",
    "cur.execute(\"SELECT Verb from za_statistics ORDER BY za_V_imp LIMIT 5\")\n",
    "print(cur.fetchall())\n",
    "#Here I filter out the least frequent verbs with za- in imperative (the first one is the least frequent)"
   ]
  },
  {
   "cell_type": "code",
   "execution_count": 65,
   "metadata": {},
   "outputs": [
    {
     "name": "stdout",
     "output_type": "stream",
     "text": [
      "[('стонал',), ('звучал',), ('визжал',), ('рычал',), ('орал',), ('шумел',), ('ревел',)]\n"
     ]
    }
   ],
   "source": [
    "#The fourth query -- and next one is also a part of the fourth query\n",
    "cur.execute('SELECT Verb FROM za_statistics INNER JOIN za_classes ON za_statistics.Verb = za_classes.Verbs WHERE lex = \"Sound\" OR lex = \"SoundSpeech\" ORDER BY za_V_imp')\n",
    "print(cur.fetchall())\n",
    "#Here I filter out most frequent verbs of sound occured with za- in the imperative (the last one is the most frequent)"
   ]
  },
  {
   "cell_type": "code",
   "execution_count": 66,
   "metadata": {},
   "outputs": [
    {
     "name": "stdout",
     "output_type": "stream",
     "text": [
      "[('звучал',), ('визжал',), ('стонал',), ('рычал',), ('ревел',), ('орал',), ('шумел',)]\n"
     ]
    }
   ],
   "source": [
    "cur.execute('SELECT Verb FROM za_statistics INNER JOIN za_classes ON za_statistics.Verb = za_classes.Verbs WHERE lex = \"Sound\" OR lex = \"SoundSpeech\" ORDER BY V_imp')\n",
    "print(cur.fetchall())\n",
    "#Here I do the same for the imperative forms of the base predicates.Note that the is a difference: \n",
    "#реветь is the most frequent verb in za-imperatives, while it is practically the last verb in simple imperatives.\n",
    "#I think this is explainable via the fact that if we talk about the beginning of an action, more agentive verbs should be more frequent. Here it works the same. \n",
    "#In usual imperative contexts, the situation could be different since we can say imperatives to cause to stop the action (like \"Не рычи на меня!\")"
   ]
  },
  {
   "cell_type": "code",
   "execution_count": 67,
   "metadata": {},
   "outputs": [
    {
     "name": "stdout",
     "output_type": "stream",
     "text": [
      "[('артачился', 194), ('упрямился', 525), ('бастовал', 673), ('рычал', 1707), ('визжал', 2413), ('мёрз', 2670), ('тряс', 2670), ('качался', 2687), ('ревел', 3582), ('стонал', 4012), ('блестел', 5545), ('шумел', 5886), ('интересовал', 6643), ('интересовался', 6936), ('орал', 7790), ('звучал', 9496), ('плакал', 24080), ('смеялcя', 29228), ('играл', 31919)]\n"
     ]
    }
   ],
   "source": [
    "#The fifth query\n",
    "cur.execute(\"SELECT Verb, (V_pst + V_imp + za_V_pst + za_V_imp) AS V_freq FROM za_statistics ORDER BY V_freq\")\n",
    "print(cur.fetchall())\n",
    "#Here I filter verbs with respect to their whole frequency (including inchoatives)"
   ]
  },
  {
   "cell_type": "code",
   "execution_count": 68,
   "metadata": {},
   "outputs": [
    {
     "name": "stdout",
     "output_type": "stream",
     "text": [
      "[(2458.4210526315787,)]\n"
     ]
    }
   ],
   "source": [
    "#The last, six query\n",
    "cur.execute(\"SELECT AVG(za_V_pst) FROM za_statistics\")\n",
    "print(cur.fetchall())\n",
    "#Here I find an average of the usages of za- in the past. It is strange, because in EXcel, there is another number."
   ]
  },
  {
   "cell_type": "code",
   "execution_count": 80,
   "metadata": {},
   "outputs": [
    {
     "name": "stdout",
     "output_type": "stream",
     "text": [
      "[(180,)]\n"
     ]
    }
   ],
   "source": [
    "#New seventh query.\n",
    "cur.execute(\"SELECT SUM(za_V_imp) FROM za_statistics\")\n",
    "print(cur.fetchall())\n",
    "#Here we get the sum of the whole set of imperatives in za."
   ]
  },
  {
   "cell_type": "code",
   "execution_count": 86,
   "metadata": {},
   "outputs": [
    {
     "name": "stdout",
     "output_type": "stream",
     "text": [
      "[('смеялcя', 22), ('плакал', 20), ('орал', 2), ('интересовался', 2), ('играл', 21), ('интересовал', 5), ('мёрз', 7), ('стонал', 1), ('ревел', 3), ('звучал', 1), ('шумел', 2), ('блестел', 1), ('визжал', 1), ('качался', 1), ('рычал', 1), ('тряс', 2), ('бастовал', 1), ('упрямился', 1), ('артачился', 1)]\n"
     ]
    }
   ],
   "source": [
    "cur.execute(\"SELECT Verb, za_V_imp*100/180 FROM za_statistics\")\n",
    "print(cur.fetchall())\n",
    "#Here we get the proportion of each verb in za- in imperative related to all za-imperatives."
   ]
  },
  {
   "cell_type": "code",
   "execution_count": 95,
   "metadata": {},
   "outputs": [
    {
     "name": "stdout",
     "output_type": "stream",
     "text": [
      "[('играл', 7), ('звучал', 15), ('блестел', 20), ('тряс', 26), ('шумел', 27), ('интересовал', 30), ('качался', 32), ('плакал', 33), ('интересовался', 38), ('стонал', 43), ('ревел', 43), ('визжал', 45), ('рычал', 50), ('смеялcя', 52), ('орал', 53), ('упрямился', 59), ('бастовал', 67), ('мёрз', 75), ('артачился', 82)]\n"
     ]
    }
   ],
   "source": [
    "cur.execute(\"SELECT Verb, za_V_pst*100/(V_pst+za_V_pst) AS V_pr FROM za_statistics ORDER by V_pr\")\n",
    "print(cur.fetchall())\n",
    "#Here I get the percentage of za-usage in the past forms for corresponding verbs. We can see that the most \"inchoative-used\" verb\n",
    "#is заартачиться (and indeed, its inchoative variant seems to be more natural than bare артачиться)\n",
    "#The next one is замёрз, which is also used in za- more often. It is probably pragmatically explained: situation when someone\n",
    "#becomes frozen are more important when the situations when someone continues being frozen (they are more \"mirative\")\n",
    "#Another verbs that have more than 50% usage of za- could be classified as signal-oriented verbs, so for them it is more important\n",
    "#to catch the beginning of the action rather than its continuity."
   ]
  },
  {
   "cell_type": "code",
   "execution_count": 96,
   "metadata": {},
   "outputs": [
    {
     "name": "stdout",
     "output_type": "stream",
     "text": [
      "[('артачился', 33), ('упрямился', 186), ('бастовал', 216), ('мёрз', 645), ('рычал', 816), ('визжал', 1299), ('качался', 1800), ('тряс', 1899), ('ревел', 1918), ('стонал', 2253), ('орал', 3408), ('шумел', 3914), ('интересовался', 4234), ('блестел', 4386), ('интересовал', 4626), ('звучал', 8011), ('смеялcя', 13303), ('плакал', 14573), ('играл', 28361)]\n"
     ]
    }
   ],
   "source": [
    "cur.execute(\"SELECT Verb, V_pst FROM za_statistics ORDER BY V_pst\")\n",
    "print(cur.fetchall())"
   ]
  },
  {
   "cell_type": "code",
   "execution_count": 97,
   "metadata": {},
   "outputs": [
    {
     "name": "stdout",
     "output_type": "stream",
     "text": [
      "[('артачился', 155), ('упрямился', 277), ('бастовал', 445), ('тряс', 700), ('рычал', 821), ('качался', 862), ('визжал', 1093), ('блестел', 1148), ('шумел', 1459), ('звучал', 1465), ('ревел', 1477), ('стонал', 1719), ('мёрз', 1996), ('интересовал', 2008), ('играл', 2439), ('интересовался', 2670), ('орал', 3917), ('плакал', 7386), ('смеялcя', 14673)]\n"
     ]
    }
   ],
   "source": [
    "cur.execute(\"SELECT Verb, za_V_pst FROM za_statistics ORDER BY za_V_pst\")\n",
    "print(cur.fetchall())"
   ]
  },
  {
   "cell_type": "code",
   "execution_count": null,
   "metadata": {},
   "outputs": [],
   "source": [
    "#If we have a look at verbs ranged by frequency in the bare past and in the za-past, we can see the influence of this disproportion.\n",
    "#Although there are many similarities, it is well seen that top-verb in bare past, играть, is only the fifth in the za-past range.\n",
    "#On the other hand, top-za-past verb смеяться is on the third place of bare-past verbs. Also мёрзнуть significantly changes its place\n",
    "#from being on the sixteenth place in bare past to being on the seventh place in the za-past range."
   ]
  },
  {
   "cell_type": "code",
   "execution_count": 98,
   "metadata": {},
   "outputs": [
    {
     "data": {
      "text/html": [
       "<div>\n",
       "<style scoped>\n",
       "    .dataframe tbody tr th:only-of-type {\n",
       "        vertical-align: middle;\n",
       "    }\n",
       "\n",
       "    .dataframe tbody tr th {\n",
       "        vertical-align: top;\n",
       "    }\n",
       "\n",
       "    .dataframe thead th {\n",
       "        text-align: right;\n",
       "    }\n",
       "</style>\n",
       "<table border=\"1\" class=\"dataframe\">\n",
       "  <thead>\n",
       "    <tr style=\"text-align: right;\">\n",
       "      <th></th>\n",
       "      <th>v</th>\n",
       "      <th>v_imp</th>\n",
       "      <th>v_za</th>\n",
       "      <th>act</th>\n",
       "      <th>lex</th>\n",
       "    </tr>\n",
       "  </thead>\n",
       "  <tbody>\n",
       "    <tr>\n",
       "      <th>0</th>\n",
       "      <td>смеял(ся, ась, ось, ись)</td>\n",
       "      <td>0</td>\n",
       "      <td>0</td>\n",
       "      <td>EPa</td>\n",
       "      <td>HumManner</td>\n",
       "    </tr>\n",
       "    <tr>\n",
       "      <th>1</th>\n",
       "      <td>смеял(ся, ась, ось, ись)</td>\n",
       "      <td>0</td>\n",
       "      <td>0</td>\n",
       "      <td>EPa</td>\n",
       "      <td>HumManner</td>\n",
       "    </tr>\n",
       "    <tr>\n",
       "      <th>2</th>\n",
       "      <td>смеял(ся, ась, ось, ись)</td>\n",
       "      <td>0</td>\n",
       "      <td>0</td>\n",
       "      <td>EPa</td>\n",
       "      <td>HumManner</td>\n",
       "    </tr>\n",
       "    <tr>\n",
       "      <th>3</th>\n",
       "      <td>смеял(ся, ась, ось, ись)</td>\n",
       "      <td>0</td>\n",
       "      <td>0</td>\n",
       "      <td>EPa</td>\n",
       "      <td>HumManner</td>\n",
       "    </tr>\n",
       "    <tr>\n",
       "      <th>4</th>\n",
       "      <td>смеял(ся, ась, ось, ись)</td>\n",
       "      <td>0</td>\n",
       "      <td>0</td>\n",
       "      <td>EPa</td>\n",
       "      <td>HumManner</td>\n",
       "    </tr>\n",
       "  </tbody>\n",
       "</table>\n",
       "</div>"
      ],
      "text/plain": [
       "                          v  v_imp  v_za  act        lex\n",
       "0  смеял(ся, ась, ось, ись)      0     0  EPa  HumManner\n",
       "1  смеял(ся, ась, ось, ись)      0     0  EPa  HumManner\n",
       "2  смеял(ся, ась, ось, ись)      0     0  EPa  HumManner\n",
       "3  смеял(ся, ась, ось, ись)      0     0  EPa  HumManner\n",
       "4  смеял(ся, ась, ось, ись)      0     0  EPa  HumManner"
      ]
     },
     "execution_count": 98,
     "metadata": {},
     "output_type": "execute_result"
    }
   ],
   "source": [
    "import matplotlib.pyplot as plt\n",
    "%matplotlib inline\n",
    "import seaborn as sns\n",
    "df2.head()"
   ]
  },
  {
   "cell_type": "code",
   "execution_count": 99,
   "metadata": {},
   "outputs": [
    {
     "data": {
      "image/png": "[encoded data removed]",
      "text/plain": [
       "<Figure size 432x288 with 1 Axes>"
      ]
     },
     "metadata": {
      "needs_background": "light"
     },
     "output_type": "display_data"
    }
   ],
   "source": [
    "df2[df2['v_za'] == 1]['v'].value_counts().plot.bar(color='blue'); \n",
    "plt.title('Total frequency of the stem')\n",
    "plt.xlabel('Stem')\n",
    "plt.ylabel('number of tokens');\n",
    "#This graph shows us how much usages with za- each stem has"
   ]
  },
  {
   "cell_type": "code",
   "execution_count": 100,
   "metadata": {},
   "outputs": [
    {
     "data": {
      "image/png": "[encoded data removed]",
      "text/plain": [
       "<Figure size 432x432 with 1 Axes>"
      ]
     },
     "metadata": {},
     "output_type": "display_data"
    }
   ],
   "source": [
    "plt.figure(figsize=(6, 6))\n",
    "df2[df2['v_za'] == 1]['v'].value_counts().plot(kind='pie');\n",
    "plt.title('Frequency of the verbs');\n",
    "#This graph shows the \"portion\" of usages of inchoative from a verb among all of the usages of the inchoatives in za-"
   ]
  },
  {
   "cell_type": "code",
   "execution_count": 101,
   "metadata": {},
   "outputs": [
    {
     "data": {
      "image/png": "[encoded data removed]",
      "text/plain": [
       "<Figure size 432x288 with 1 Axes>"
      ]
     },
     "metadata": {
      "needs_background": "light"
     },
     "output_type": "display_data"
    }
   ],
   "source": [
    "sns.barplot(x=\"v\", y=\"v_imp\", hue = \"v_za\", orientation=u'vertical', data=df2)\n",
    "plt.title('THe distribution of different forms of the verbs')\n",
    "plt.xlabel('POS')\n",
    "plt.ylabel('number of entries');\n",
    "#This graph shows the proportion of forms with za- and without za- for each verb.\n",
    "#As far as I understood, blue lines in the colums are responsible for imperative parts."
   ]
  },
  {
   "cell_type": "code",
   "execution_count": 115,
   "metadata": {},
   "outputs": [
    {
     "data": {
      "image/png": "[encoded data removed]",
      "text/plain": [
       "<Figure size 432x288 with 1 Axes>"
      ]
     },
     "metadata": {
      "needs_background": "light"
     },
     "output_type": "display_data"
    }
   ],
   "source": [
    "plt.scatter(df2['v'].value_counts(), df2[df2['v_za'] == 1]['v'].value_counts(), df2[df2['v_imp'] == 1]['v'].value_counts()) \n",
    "plt.show()"
   ]
  },
  {
   "cell_type": "code",
   "execution_count": null,
   "metadata": {},
   "outputs": [],
   "source": []
  }
 ],
 "metadata": {
  "kernelspec": {
   "display_name": "Python 3",
   "language": "python",
   "name": "python3"
  },
  "language_info": {
   "codemirror_mode": {
    "name": "ipython",
    "version": 3
   },
   "file_extension": ".py",
   "mimetype": "text/x-python",
   "name": "python",
   "nbconvert_exporter": "python",
   "pygments_lexer": "ipython3",
   "version": "3.8.5"
  }
 },
 "nbformat": 4,
 "nbformat_minor": 4
}
