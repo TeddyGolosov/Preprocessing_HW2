{
 "cells": [
  {
   "cell_type": "code",
   "execution_count": 1,
   "metadata": {},
   "outputs": [],
   "source": [
    "import pandas as pd\n",
    "import csv\n",
    "import sqlite3"
   ]
  },
  {
   "cell_type": "code",
   "execution_count": 2,
   "metadata": {},
   "outputs": [],
   "source": [
    "df = pd.read_csv('D:/za_stat.csv', sep=';', encoding='utf-8')\n"
   ]
  },
  {
   "cell_type": "code",
   "execution_count": 3,
   "metadata": {},
   "outputs": [
    {
     "data": {
      "text/html": [
       "<div>\n",
       "<style scoped>\n",
       "    .dataframe tbody tr th:only-of-type {\n",
       "        vertical-align: middle;\n",
       "    }\n",
       "\n",
       "    .dataframe tbody tr th {\n",
       "        vertical-align: top;\n",
       "    }\n",
       "\n",
       "    .dataframe thead th {\n",
       "        text-align: right;\n",
       "    }\n",
       "</style>\n",
       "<table border=\"1\" class=\"dataframe\">\n",
       "  <thead>\n",
       "    <tr style=\"text-align: right;\">\n",
       "      <th></th>\n",
       "      <th>Verb</th>\n",
       "      <th>V_pst</th>\n",
       "      <th>za_V_pst</th>\n",
       "      <th>V_imp</th>\n",
       "      <th>za_V_imp</th>\n",
       "    </tr>\n",
       "  </thead>\n",
       "  <tbody>\n",
       "    <tr>\n",
       "      <th>0</th>\n",
       "      <td>смеялcя</td>\n",
       "      <td>13 303</td>\n",
       "      <td>14 673</td>\n",
       "      <td>1 212</td>\n",
       "      <td>40</td>\n",
       "    </tr>\n",
       "    <tr>\n",
       "      <th>1</th>\n",
       "      <td>плакал</td>\n",
       "      <td>14 573</td>\n",
       "      <td>7 386</td>\n",
       "      <td>2 084</td>\n",
       "      <td>37</td>\n",
       "    </tr>\n",
       "    <tr>\n",
       "      <th>2</th>\n",
       "      <td>орал</td>\n",
       "      <td>3 408</td>\n",
       "      <td>3 917</td>\n",
       "      <td>461</td>\n",
       "      <td>4</td>\n",
       "    </tr>\n",
       "    <tr>\n",
       "      <th>3</th>\n",
       "      <td>интересовался</td>\n",
       "      <td>4 234</td>\n",
       "      <td>2 670</td>\n",
       "      <td>27</td>\n",
       "      <td>5</td>\n",
       "    </tr>\n",
       "    <tr>\n",
       "      <th>4</th>\n",
       "      <td>играл</td>\n",
       "      <td>28 361</td>\n",
       "      <td>2 439</td>\n",
       "      <td>1 080</td>\n",
       "      <td>39</td>\n",
       "    </tr>\n",
       "  </tbody>\n",
       "</table>\n",
       "</div>"
      ],
      "text/plain": [
       "            Verb   V_pst za_V_pst  V_imp  za_V_imp\n",
       "0        смеялcя  13 303   14 673  1 212        40\n",
       "1         плакал  14 573    7 386  2 084        37\n",
       "2           орал   3 408    3 917    461         4\n",
       "3  интересовался   4 234    2 670     27         5\n",
       "4          играл  28 361    2 439  1 080        39"
      ]
     },
     "execution_count": 3,
     "metadata": {},
     "output_type": "execute_result"
    }
   ],
   "source": [
    "df.head()"
   ]
  },
  {
   "cell_type": "code",
   "execution_count": 4,
   "metadata": {},
   "outputs": [],
   "source": [
    "df1 = pd.read_csv('D:/za_classes.csv', sep=';', encoding='utf-8')"
   ]
  },
  {
   "cell_type": "code",
   "execution_count": 5,
   "metadata": {},
   "outputs": [
    {
     "data": {
      "text/html": [
       "<div>\n",
       "<style scoped>\n",
       "    .dataframe tbody tr th:only-of-type {\n",
       "        vertical-align: middle;\n",
       "    }\n",
       "\n",
       "    .dataframe tbody tr th {\n",
       "        vertical-align: top;\n",
       "    }\n",
       "\n",
       "    .dataframe thead th {\n",
       "        text-align: right;\n",
       "    }\n",
       "</style>\n",
       "<table border=\"1\" class=\"dataframe\">\n",
       "  <thead>\n",
       "    <tr style=\"text-align: right;\">\n",
       "      <th></th>\n",
       "      <th>Verbs</th>\n",
       "      <th>act</th>\n",
       "      <th>lex</th>\n",
       "    </tr>\n",
       "  </thead>\n",
       "  <tbody>\n",
       "    <tr>\n",
       "      <th>0</th>\n",
       "      <td>смеялcя</td>\n",
       "      <td>EPa</td>\n",
       "      <td>HumManner</td>\n",
       "    </tr>\n",
       "    <tr>\n",
       "      <th>1</th>\n",
       "      <td>плакал</td>\n",
       "      <td>EPa</td>\n",
       "      <td>HumManner</td>\n",
       "    </tr>\n",
       "    <tr>\n",
       "      <th>2</th>\n",
       "      <td>орал</td>\n",
       "      <td>Epa</td>\n",
       "      <td>SoundSpeech</td>\n",
       "    </tr>\n",
       "    <tr>\n",
       "      <th>3</th>\n",
       "      <td>интересовался</td>\n",
       "      <td>ESGen</td>\n",
       "      <td>HumRel</td>\n",
       "    </tr>\n",
       "    <tr>\n",
       "      <th>4</th>\n",
       "      <td>играл</td>\n",
       "      <td>Epa</td>\n",
       "      <td>OtherHumActivity</td>\n",
       "    </tr>\n",
       "  </tbody>\n",
       "</table>\n",
       "</div>"
      ],
      "text/plain": [
       "           Verbs    act               lex\n",
       "0        смеялcя    EPa         HumManner\n",
       "1         плакал    EPa         HumManner\n",
       "2           орал    Epa       SoundSpeech\n",
       "3  интересовался  ESGen            HumRel\n",
       "4          играл    Epa  OtherHumActivity"
      ]
     },
     "execution_count": 5,
     "metadata": {},
     "output_type": "execute_result"
    }
   ],
   "source": [
    "df1.head()"
   ]
  },
  {
   "cell_type": "code",
   "execution_count": 6,
   "metadata": {},
   "outputs": [],
   "source": [
    "con = sqlite3.connect(\"prefix_za.db\")\n",
    "cur = con.cursor()\n",
    "df.to_sql(name='za_statistics', con=con, if_exists='replace')\n"
   ]
  },
  {
   "cell_type": "code",
   "execution_count": 7,
   "metadata": {},
   "outputs": [],
   "source": [
    "con = sqlite3.connect(\"prefix_za.db\")\n",
    "cur = con.cursor()\n",
    "df1.to_sql(name='za_classes', con=con, if_exists='replace')"
   ]
  },
  {
   "cell_type": "code",
   "execution_count": 8,
   "metadata": {
    "scrolled": true
   },
   "outputs": [
    {
     "name": "stdout",
     "output_type": "stream",
     "text": [
      "(0, 'смеялcя', '13 303', '14 673', '1 212', 40)\n",
      "(1, 'плакал', '14 573', '7 386', '2 084', 37)\n",
      "(2, 'орал', '3 408', '3 917', '461', 4)\n",
      "(3, 'интересовался', '4 234', '2 670', '27', 5)\n",
      "(4, 'играл', '28 361', '2 439', '1 080', 39)\n",
      "(5, 'интересовал', '4 626', '2 008', '0', 9)\n",
      "(6, 'мёрз', '645', '1 996', '16', 13)\n",
      "(7, 'стонал', '2 253', '1 719', '38', 2)\n",
      "(8, 'ревел', '1 918', '1 477', '181', 6)\n",
      "(9, 'звучал', '8 011', '1 465', '18', 2)\n",
      "(10, 'шумел', '3 914', '1 459', '508', 5)\n",
      "(11, 'блестел', '4 386', '1 148', '9', 2)\n",
      "(12, 'визжал', '1 299', '1 093', '19', 2)\n",
      "(13, 'качался', '1 800', '862', '23', 2)\n",
      "(14, 'рычал', '816', '821', '68', 2)\n",
      "(15, 'тряс', '1 899', '700', '67', 4)\n",
      "(16, 'бастовал', '216', '445', '10', 2)\n",
      "(17, 'упрямился', '186', '277', '60', 2)\n",
      "(18, 'артачился', '33', '155', '4', 2)\n"
     ]
    }
   ],
   "source": [
    "for row in cur.execute('SELECT * FROM za_statistics'):\n",
    "    print(row)"
   ]
  },
  {
   "cell_type": "code",
   "execution_count": 9,
   "metadata": {},
   "outputs": [],
   "source": [
    "con.commit()\n",
    "con.close()"
   ]
  },
  {
   "cell_type": "code",
   "execution_count": 10,
   "metadata": {},
   "outputs": [],
   "source": [
    "con1 = sqlite3.connect(\"prefix_za.db\")\n",
    "cur = con1.cursor()"
   ]
  },
  {
   "cell_type": "code",
   "execution_count": 11,
   "metadata": {},
   "outputs": [
    {
     "name": "stdout",
     "output_type": "stream",
     "text": [
      "[('стонал',), ('звучал',), ('блестел',), ('визжал',), ('качался',), ('рычал',), ('бастовал',), ('упрямился',), ('артачился',), ('орал',), ('тряс',), ('интересовался',), ('шумел',), ('ревел',), ('интересовал',), ('мёрз',), ('плакал',), ('играл',), ('смеялcя',)]\n"
     ]
    }
   ],
   "source": [
    "#The first query\n",
    "cur.execute('SELECT Verb FROM za_statistics ORDER BY za_V_imp')\n",
    "print(cur.fetchall())\n",
    "#Here I filter the verbs with respect to the frequency of their inchoatives in za- in imperative forms."
   ]
  },
  {
   "cell_type": "code",
   "execution_count": 12,
   "metadata": {},
   "outputs": [
    {
     "data": {
      "text/plain": [
       "<sqlite3.Cursor at 0x10687f20>"
      ]
     },
     "execution_count": 12,
     "metadata": {},
     "output_type": "execute_result"
    }
   ],
   "source": [
    "#The second query.\n",
    "cur.execute('SELECT * FROM za_statistics INNER JOIN za_classes ON za_statistics.Verb = za_classes.Verbs')\n",
    "#Here I join the tables together. "
   ]
  },
  {
   "cell_type": "code",
   "execution_count": 13,
   "metadata": {
    "scrolled": true
   },
   "outputs": [
    {
     "name": "stdout",
     "output_type": "stream",
     "text": [
      "[(0, 'смеялcя', '13 303', '14 673', '1 212', 40, 0, 'смеялcя', 'EPa', 'HumManner'), (1, 'плакал', '14 573', '7 386', '2 084', 37, 1, 'плакал', 'EPa', 'HumManner'), (2, 'орал', '3 408', '3 917', '461', 4, 2, 'орал', 'Epa', 'SoundSpeech'), (3, 'интересовался', '4 234', '2 670', '27', 5, 3, 'интересовался', 'ESGen', 'HumRel'), (4, 'играл', '28 361', '2 439', '1 080', 39, 4, 'играл', 'Epa', 'OtherHumActivity'), (5, 'интересовал', '4 626', '2 008', '0', 9, 5, 'интересовал', 'ESGen', 'HumRel'), (6, 'мёрз', '645', '1 996', '16', 13, 6, 'мёрз', 'ES', 'HumPhys'), (7, 'стонал', '2 253', '1 719', '38', 2, 7, 'стонал', 'EPa', 'Sound'), (8, 'ревел', '1 918', '1 477', '181', 6, 8, 'ревел', 'EPa', 'Sound'), (9, 'звучал', '8 011', '1 465', '18', 2, 9, 'звучал', 'EPa', 'Sound'), (10, 'шумел', '3 914', '1 459', '508', 5, 10, 'шумел', 'EPa', 'Sound'), (11, 'блестел', '4 386', '1 148', '9', 2, 11, 'блестел', 'ES', 'Visual'), (12, 'визжал', '1 299', '1 093', '19', 2, 12, 'визжал', 'EMult', 'Sound'), (13, 'качался', '1 800', '862', '23', 2, 13, 'качался', 'EMult', 'MotOther'), (14, 'рычал', '816', '821', '68', 2, 14, 'рычал', 'EPa', 'Sound'), (15, 'тряс', '1 899', '700', '67', 4, 15, 'тряс', 'EMult', 'MotOther'), (16, 'бастовал', '216', '445', '10', 2, 16, 'бастовал', 'EHab', 'OtherHumActivity'), (17, 'упрямился', '186', '277', '60', 2, 17, 'упрямился', 'ES', 'HumManner'), (18, 'артачился', '33', '155', '4', 2, 18, 'артачился', 'ES', 'HumManner')]\n"
     ]
    }
   ],
   "source": [
    "print(cur.fetchall())\n",
    "con1.commit()\n"
   ]
  },
  {
   "cell_type": "code",
   "execution_count": 14,
   "metadata": {},
   "outputs": [
    {
     "name": "stdout",
     "output_type": "stream",
     "text": [
      "[('интересовал',), ('мёрз',), ('плакал',), ('играл',), ('смеялcя',)]\n"
     ]
    }
   ],
   "source": [
    "#The third query\n",
    "cur.execute(\"SELECT Verb from za_statistics ORDER BY za_V_imp LIMIT 19 OFFSET 14\")\n",
    "print(cur.fetchall())\n",
    "#Here I filter out the most frequent verbs with za- in imperative (the last one is the most frequent)"
   ]
  },
  {
   "cell_type": "code",
   "execution_count": 15,
   "metadata": {},
   "outputs": [
    {
     "name": "stdout",
     "output_type": "stream",
     "text": [
      "[('стонал',), ('звучал',), ('блестел',), ('визжал',), ('качался',)]\n"
     ]
    }
   ],
   "source": [
    "#Let it also be a part of the third query\n",
    "cur.execute(\"SELECT Verb from za_statistics ORDER BY za_V_imp LIMIT 5\")\n",
    "print(cur.fetchall())\n",
    "#Here I filter out the least frequent verbs with za- in imperative (the first one is the least frequent)"
   ]
  },
  {
   "cell_type": "code",
   "execution_count": 16,
   "metadata": {
    "scrolled": true
   },
   "outputs": [
    {
     "name": "stdout",
     "output_type": "stream",
     "text": [
      "[('стонал',), ('звучал',), ('визжал',), ('рычал',), ('орал',), ('шумел',), ('ревел',)]\n"
     ]
    }
   ],
   "source": [
    "#The fourth query -- and next one is also a part of the fourth query\n",
    "cur.execute('SELECT Verb FROM za_statistics INNER JOIN za_classes ON za_statistics.Verb = za_classes.Verbs WHERE lex = \"Sound\" OR lex = \"SoundSpeech\" ORDER BY za_V_imp')\n",
    "print(cur.fetchall())\n",
    "#Here I filter out most frequent verbs of sound occured with za- in the imperative (the last one is the most frequent)"
   ]
  },
  {
   "cell_type": "code",
   "execution_count": 17,
   "metadata": {},
   "outputs": [
    {
     "name": "stdout",
     "output_type": "stream",
     "text": [
      "[('звучал',), ('ревел',), ('визжал',), ('стонал',), ('орал',), ('шумел',), ('рычал',)]\n"
     ]
    }
   ],
   "source": [
    "cur.execute('SELECT Verb FROM za_statistics INNER JOIN za_classes ON za_statistics.Verb = za_classes.Verbs WHERE lex = \"Sound\" OR lex = \"SoundSpeech\" ORDER BY V_imp')\n",
    "print(cur.fetchall())\n",
    "#Here I do the same for the imperative forms of the base predicates.Note that the is a difference: \n",
    "#реветь is the most frequent verb in za-imperatives, while it is practically the last verb in simple imperatives.\n",
    "#I think this is explainable via the fact that if we talk about the beginning of an action, more agentive verbs should be more frequent. Here it works the same. \n",
    "#In usual imperative contexts, the situation could be different since we can say imperatives to cause to stop the action (like \"Не рычи на меня!\")"
   ]
  },
  {
   "cell_type": "code",
   "execution_count": 18,
   "metadata": {},
   "outputs": [
    {
     "name": "stdout",
     "output_type": "stream",
     "text": [
      "[('интересовал', 15), ('блестел', 16), ('визжал', 23), ('звучал', 29), ('интересовался', 38), ('стонал', 43), ('плакал', 60), ('смеялcя', 68), ('играл', 70), ('ревел', 189), ('артачился', 194), ('орал', 471), ('шумел', 517), ('упрямился', 525), ('бастовал', 673), ('мёрз', 675), ('тряс', 772), ('качался', 888), ('рычал', 1707)]\n"
     ]
    }
   ],
   "source": [
    "#The fifth query\n",
    "cur.execute(\"SELECT Verb, (V_pst + V_imp + za_V_pst + za_V_imp) AS V_freq FROM za_statistics ORDER BY V_freq\")\n",
    "print(cur.fetchall())\n",
    "#Here I filter verbs with respect to their whole frequency (including inchoatives)"
   ]
  },
  {
   "cell_type": "code",
   "execution_count": 19,
   "metadata": {},
   "outputs": [
    {
     "name": "stdout",
     "output_type": "stream",
     "text": [
      "[(173.52631578947367,)]\n"
     ]
    }
   ],
   "source": [
    "#The last, six query\n",
    "cur.execute(\"SELECT AVG(za_V_pst) FROM za_statistics\")\n",
    "print(cur.fetchall())\n",
    "#Here I find an average of the usages of za- in the past. It is strange, because in EXcel, there is another number."
   ]
  },
  {
   "cell_type": "code",
   "execution_count": 20,
   "metadata": {},
   "outputs": [],
   "source": [
    "import matplotlib.pyplot as plt\n",
    "%matplotlib inline\n",
    "import seaborn as sns"
   ]
  },
  {
   "cell_type": "code",
   "execution_count": 27,
   "metadata": {},
   "outputs": [
    {
     "data": {
      "text/html": [
       "<div>\n",
       "<style scoped>\n",
       "    .dataframe tbody tr th:only-of-type {\n",
       "        vertical-align: middle;\n",
       "    }\n",
       "\n",
       "    .dataframe tbody tr th {\n",
       "        vertical-align: top;\n",
       "    }\n",
       "\n",
       "    .dataframe thead th {\n",
       "        text-align: right;\n",
       "    }\n",
       "</style>\n",
       "<table border=\"1\" class=\"dataframe\">\n",
       "  <thead>\n",
       "    <tr style=\"text-align: right;\">\n",
       "      <th></th>\n",
       "      <th>v</th>\n",
       "      <th>v_imp</th>\n",
       "      <th>v_za</th>\n",
       "      <th>act</th>\n",
       "      <th>lex</th>\n",
       "    </tr>\n",
       "  </thead>\n",
       "  <tbody>\n",
       "    <tr>\n",
       "      <th>0</th>\n",
       "      <td>смеялся</td>\n",
       "      <td>0</td>\n",
       "      <td>0</td>\n",
       "      <td>EPa</td>\n",
       "      <td>HumManner</td>\n",
       "    </tr>\n",
       "    <tr>\n",
       "      <th>1</th>\n",
       "      <td>смеялся</td>\n",
       "      <td>0</td>\n",
       "      <td>0</td>\n",
       "      <td>EPa</td>\n",
       "      <td>HumManner</td>\n",
       "    </tr>\n",
       "    <tr>\n",
       "      <th>2</th>\n",
       "      <td>смеялся</td>\n",
       "      <td>0</td>\n",
       "      <td>0</td>\n",
       "      <td>EPa</td>\n",
       "      <td>HumManner</td>\n",
       "    </tr>\n",
       "    <tr>\n",
       "      <th>3</th>\n",
       "      <td>смеялся</td>\n",
       "      <td>0</td>\n",
       "      <td>0</td>\n",
       "      <td>EPa</td>\n",
       "      <td>HumManner</td>\n",
       "    </tr>\n",
       "    <tr>\n",
       "      <th>4</th>\n",
       "      <td>смеялся</td>\n",
       "      <td>0</td>\n",
       "      <td>0</td>\n",
       "      <td>EPa</td>\n",
       "      <td>HumManner</td>\n",
       "    </tr>\n",
       "  </tbody>\n",
       "</table>\n",
       "</div>"
      ],
      "text/plain": [
       "         v  v_imp  v_za  act        lex\n",
       "0  смеялся      0     0  EPa  HumManner\n",
       "1  смеялся      0     0  EPa  HumManner\n",
       "2  смеялся      0     0  EPa  HumManner\n",
       "3  смеялся      0     0  EPa  HumManner\n",
       "4  смеялся      0     0  EPa  HumManner"
      ]
     },
     "execution_count": 27,
     "metadata": {},
     "output_type": "execute_result"
    }
   ],
   "source": [
    "df2 = pd.read_csv('E:/pref_za_disaggregategy.csv', sep=';', encoding='utf-8')\n",
    "df2.head()"
   ]
  },
  {
   "cell_type": "code",
   "execution_count": 52,
   "metadata": {},
   "outputs": [
    {
     "data": {
      "image/png": "[encoded data removed]",
      "text/plain": [
       "<Figure size 432x288 with 1 Axes>"
      ]
     },
     "metadata": {
      "needs_background": "light"
     },
     "output_type": "display_data"
    }
   ],
   "source": [
    "df2[df2['v_za'] == 1]['v'].value_counts().plot.bar(color='blue'); \n",
    "plt.title('Total frequency of the stem')\n",
    "plt.xlabel('Stem')\n",
    "plt.ylabel('number of tokens');\n",
    "#This graph shows us how much usages with za- each stem has"
   ]
  },
  {
   "cell_type": "code",
   "execution_count": 51,
   "metadata": {},
   "outputs": [
    {
     "data": {
      "image/png": "[encoded data removed]",
      "text/plain": [
       "<Figure size 432x432 with 1 Axes>"
      ]
     },
     "metadata": {},
     "output_type": "display_data"
    }
   ],
   "source": [
    "plt.figure(figsize=(6, 6))\n",
    "df2[df2['v_za'] == 1]['v'].value_counts().plot(kind='pie');\n",
    "plt.title('Frequency of the verbs');\n",
    "#This graph shows the \"portion\" of usages of inchoative from a verb among all of the usages of the inchoatives in za-"
   ]
  },
  {
   "cell_type": "code",
   "execution_count": 65,
   "metadata": {},
   "outputs": [
    {
     "data": {
      "image/png": "[encoded data removed]",
      "text/plain": [
       "<Figure size 432x288 with 1 Axes>"
      ]
     },
     "metadata": {
      "needs_background": "light"
     },
     "output_type": "display_data"
    }
   ],
   "source": [
    "sns.barplot(x=\"v\", y=\"v_imp\", hue = \"v_za\", orientation=u'vertical', data=df2)\n",
    "plt.title('THe distribution of different forms of the verbs')\n",
    "plt.xlabel('POS')\n",
    "plt.ylabel('number of entries');\n",
    "#This graph shows the proportion of forms with za- and without za- for each verb.\n",
    "#As far as I understood, blue lines in the colums are responsible for imperative parts."
   ]
  },
  {
   "cell_type": "code",
   "execution_count": 60,
   "metadata": {},
   "outputs": [
    {
     "ename": "ValueError",
     "evalue": "Could not interpret input 'POS'",
     "output_type": "error",
     "traceback": [
      "\u001b[1;31m---------------------------------------------------------------------------\u001b[0m",
      "\u001b[1;31mValueError\u001b[0m                                Traceback (most recent call last)",
      "\u001b[1;32m<ipython-input-60-1492a336eae2>\u001b[0m in \u001b[0;36m<module>\u001b[1;34m\u001b[0m\n\u001b[1;32m----> 1\u001b[1;33m \u001b[0msns\u001b[0m\u001b[1;33m.\u001b[0m\u001b[0mbarplot\u001b[0m\u001b[1;33m(\u001b[0m\u001b[0mx\u001b[0m\u001b[1;33m=\u001b[0m\u001b[1;34m\"POS\"\u001b[0m\u001b[1;33m,\u001b[0m \u001b[0my\u001b[0m\u001b[1;33m=\u001b[0m\u001b[1;34m\"total\"\u001b[0m\u001b[1;33m,\u001b[0m \u001b[0mhue\u001b[0m\u001b[1;33m=\u001b[0m\u001b[1;34m'gender'\u001b[0m\u001b[1;33m,\u001b[0m \u001b[0mdata\u001b[0m\u001b[1;33m=\u001b[0m\u001b[0mdf2\u001b[0m\u001b[1;33m)\u001b[0m\u001b[1;33m\u001b[0m\u001b[1;33m\u001b[0m\u001b[0m\n\u001b[0m\u001b[0;32m      2\u001b[0m \u001b[0mplt\u001b[0m\u001b[1;33m.\u001b[0m\u001b[0mtitle\u001b[0m\u001b[1;33m(\u001b[0m\u001b[1;34m'Gender by POS'\u001b[0m\u001b[1;33m)\u001b[0m\u001b[1;33m\u001b[0m\u001b[1;33m\u001b[0m\u001b[0m\n\u001b[0;32m      3\u001b[0m \u001b[0mplt\u001b[0m\u001b[1;33m.\u001b[0m\u001b[0mxlabel\u001b[0m\u001b[1;33m(\u001b[0m\u001b[1;34m'POS'\u001b[0m\u001b[1;33m)\u001b[0m\u001b[1;33m\u001b[0m\u001b[1;33m\u001b[0m\u001b[0m\n\u001b[0;32m      4\u001b[0m \u001b[0mplt\u001b[0m\u001b[1;33m.\u001b[0m\u001b[0mylabel\u001b[0m\u001b[1;33m(\u001b[0m\u001b[1;34m'number of entries'\u001b[0m\u001b[1;33m)\u001b[0m\u001b[1;33m\u001b[0m\u001b[1;33m\u001b[0m\u001b[0m\n",
      "\u001b[1;32mc:\\users\\acer\\appdata\\local\\programs\\python\\python38-32\\lib\\site-packages\\seaborn\\_decorators.py\u001b[0m in \u001b[0;36minner_f\u001b[1;34m(*args, **kwargs)\u001b[0m\n\u001b[0;32m     44\u001b[0m             )\n\u001b[0;32m     45\u001b[0m         \u001b[0mkwargs\u001b[0m\u001b[1;33m.\u001b[0m\u001b[0mupdate\u001b[0m\u001b[1;33m(\u001b[0m\u001b[1;33m{\u001b[0m\u001b[0mk\u001b[0m\u001b[1;33m:\u001b[0m \u001b[0marg\u001b[0m \u001b[1;32mfor\u001b[0m \u001b[0mk\u001b[0m\u001b[1;33m,\u001b[0m \u001b[0marg\u001b[0m \u001b[1;32min\u001b[0m \u001b[0mzip\u001b[0m\u001b[1;33m(\u001b[0m\u001b[0msig\u001b[0m\u001b[1;33m.\u001b[0m\u001b[0mparameters\u001b[0m\u001b[1;33m,\u001b[0m \u001b[0margs\u001b[0m\u001b[1;33m)\u001b[0m\u001b[1;33m}\u001b[0m\u001b[1;33m)\u001b[0m\u001b[1;33m\u001b[0m\u001b[1;33m\u001b[0m\u001b[0m\n\u001b[1;32m---> 46\u001b[1;33m         \u001b[1;32mreturn\u001b[0m \u001b[0mf\u001b[0m\u001b[1;33m(\u001b[0m\u001b[1;33m**\u001b[0m\u001b[0mkwargs\u001b[0m\u001b[1;33m)\u001b[0m\u001b[1;33m\u001b[0m\u001b[1;33m\u001b[0m\u001b[0m\n\u001b[0m\u001b[0;32m     47\u001b[0m     \u001b[1;32mreturn\u001b[0m \u001b[0minner_f\u001b[0m\u001b[1;33m\u001b[0m\u001b[1;33m\u001b[0m\u001b[0m\n\u001b[0;32m     48\u001b[0m \u001b[1;33m\u001b[0m\u001b[0m\n",
      "\u001b[1;32mc:\\users\\acer\\appdata\\local\\programs\\python\\python38-32\\lib\\site-packages\\seaborn\\categorical.py\u001b[0m in \u001b[0;36mbarplot\u001b[1;34m(x, y, hue, data, order, hue_order, estimator, ci, n_boot, units, seed, orient, color, palette, saturation, errcolor, errwidth, capsize, dodge, ax, **kwargs)\u001b[0m\n\u001b[0;32m   3167\u001b[0m ):\n\u001b[0;32m   3168\u001b[0m \u001b[1;33m\u001b[0m\u001b[0m\n\u001b[1;32m-> 3169\u001b[1;33m     plotter = _BarPlotter(x, y, hue, data, order, hue_order,\n\u001b[0m\u001b[0;32m   3170\u001b[0m                           \u001b[0mestimator\u001b[0m\u001b[1;33m,\u001b[0m \u001b[0mci\u001b[0m\u001b[1;33m,\u001b[0m \u001b[0mn_boot\u001b[0m\u001b[1;33m,\u001b[0m \u001b[0munits\u001b[0m\u001b[1;33m,\u001b[0m \u001b[0mseed\u001b[0m\u001b[1;33m,\u001b[0m\u001b[1;33m\u001b[0m\u001b[1;33m\u001b[0m\u001b[0m\n\u001b[0;32m   3171\u001b[0m                           \u001b[0morient\u001b[0m\u001b[1;33m,\u001b[0m \u001b[0mcolor\u001b[0m\u001b[1;33m,\u001b[0m \u001b[0mpalette\u001b[0m\u001b[1;33m,\u001b[0m \u001b[0msaturation\u001b[0m\u001b[1;33m,\u001b[0m\u001b[1;33m\u001b[0m\u001b[1;33m\u001b[0m\u001b[0m\n",
      "\u001b[1;32mc:\\users\\acer\\appdata\\local\\programs\\python\\python38-32\\lib\\site-packages\\seaborn\\categorical.py\u001b[0m in \u001b[0;36m__init__\u001b[1;34m(self, x, y, hue, data, order, hue_order, estimator, ci, n_boot, units, seed, orient, color, palette, saturation, errcolor, errwidth, capsize, dodge)\u001b[0m\n\u001b[0;32m   1582\u001b[0m                  errwidth, capsize, dodge):\n\u001b[0;32m   1583\u001b[0m         \u001b[1;34m\"\"\"Initialize the plotter.\"\"\"\u001b[0m\u001b[1;33m\u001b[0m\u001b[1;33m\u001b[0m\u001b[0m\n\u001b[1;32m-> 1584\u001b[1;33m         self.establish_variables(x, y, hue, data, orient,\n\u001b[0m\u001b[0;32m   1585\u001b[0m                                  order, hue_order, units)\n\u001b[0;32m   1586\u001b[0m         \u001b[0mself\u001b[0m\u001b[1;33m.\u001b[0m\u001b[0mestablish_colors\u001b[0m\u001b[1;33m(\u001b[0m\u001b[0mcolor\u001b[0m\u001b[1;33m,\u001b[0m \u001b[0mpalette\u001b[0m\u001b[1;33m,\u001b[0m \u001b[0msaturation\u001b[0m\u001b[1;33m)\u001b[0m\u001b[1;33m\u001b[0m\u001b[1;33m\u001b[0m\u001b[0m\n",
      "\u001b[1;32mc:\\users\\acer\\appdata\\local\\programs\\python\\python38-32\\lib\\site-packages\\seaborn\\categorical.py\u001b[0m in \u001b[0;36mestablish_variables\u001b[1;34m(self, x, y, hue, data, orient, order, hue_order, units)\u001b[0m\n\u001b[0;32m    151\u001b[0m                 \u001b[1;32mif\u001b[0m \u001b[0misinstance\u001b[0m\u001b[1;33m(\u001b[0m\u001b[0mvar\u001b[0m\u001b[1;33m,\u001b[0m \u001b[0mstr\u001b[0m\u001b[1;33m)\u001b[0m\u001b[1;33m:\u001b[0m\u001b[1;33m\u001b[0m\u001b[1;33m\u001b[0m\u001b[0m\n\u001b[0;32m    152\u001b[0m                     \u001b[0merr\u001b[0m \u001b[1;33m=\u001b[0m \u001b[1;34m\"Could not interpret input '{}'\"\u001b[0m\u001b[1;33m.\u001b[0m\u001b[0mformat\u001b[0m\u001b[1;33m(\u001b[0m\u001b[0mvar\u001b[0m\u001b[1;33m)\u001b[0m\u001b[1;33m\u001b[0m\u001b[1;33m\u001b[0m\u001b[0m\n\u001b[1;32m--> 153\u001b[1;33m                     \u001b[1;32mraise\u001b[0m \u001b[0mValueError\u001b[0m\u001b[1;33m(\u001b[0m\u001b[0merr\u001b[0m\u001b[1;33m)\u001b[0m\u001b[1;33m\u001b[0m\u001b[1;33m\u001b[0m\u001b[0m\n\u001b[0m\u001b[0;32m    154\u001b[0m \u001b[1;33m\u001b[0m\u001b[0m\n\u001b[0;32m    155\u001b[0m             \u001b[1;31m# Figure out the plotting orientation\u001b[0m\u001b[1;33m\u001b[0m\u001b[1;33m\u001b[0m\u001b[1;33m\u001b[0m\u001b[0m\n",
      "\u001b[1;31mValueError\u001b[0m: Could not interpret input 'POS'"
     ]
    }
   ],
   "source": []
  },
  {
   "cell_type": "code",
   "execution_count": null,
   "metadata": {},
   "outputs": [],
   "source": []
  }
 ],
 "metadata": {
  "kernelspec": {
   "display_name": "Python 3",
   "language": "python",
   "name": "python3"
  },
  "language_info": {
   "codemirror_mode": {
    "name": "ipython",
    "version": 3
   },
   "file_extension": ".py",
   "mimetype": "text/x-python",
   "name": "python",
   "nbconvert_exporter": "python",
   "pygments_lexer": "ipython3",
   "version": "3.8.5"
  }
 },
 "nbformat": 4,
 "nbformat_minor": 4
}
